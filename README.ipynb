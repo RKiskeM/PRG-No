{
 "cells": [
  {
   "cell_type": "markdown",
   "metadata": {},
   "source": [
    "Programování v jazyce Python\n",
    "=================================\n",
    "\n",
    "Tato stránka slouží jako podpora výuky jazyka Python na [SPŠe Olomouc][].\n",
    "\n",
    "Prosím, pokud máte jakoukoli připomínku nebo dotaz napište \n",
    "[Issue](https://github.com/spseol/PRG-No/issues/new).\n",
    "Pokud najdete chybu, forkněte si repozitář a opravte ji nebo mi alespoň \n",
    "dejte vědět tím, že napíšete\n",
    "[Issue](https://github.com/spseol/PRG-No/issues/new).\n",
    "\n",
    "\n",
    "\n",
    "[SPŠe Olomouc]: http://www.spseol.cz\n",
    "\n",
    " 0. Než začneme\n",
    "    * [Instalace](instalace.md)\n",
    "    * [Související nástroje](nastroje.md)\n",
    "    * [Git](git.md)\n",
    " 1. [Čísla](cisla.ipynb)\n",
    " 2. [Řetězce](retezce.ipynb)\n",
    " 2. [Posloupnosti](posloupnosti.ipynb)\n",
    "\n",
    "\n",
    "\n",
    "Kde se učit a hledat informace\n",
    "----------------------------\n",
    "\n",
    " * Velice zdařila komunitní stránka je <http://python.cz>. Najdete tu vše, co \n",
    "   začátečník potřebuje včetně diskusních skupin a chatu.\n",
    " \n",
    " * Rozcestník pro začátečníky najdete na <https://python.cz/zacatecnici/>.\n",
    "\n",
    " * <http://naucse.python.cz/>\n",
    "    * [Začátečnický kurz](http://naucse.python.cz/course/pyladies/).\n",
    "    * [Kurz pro pokročilé](http://naucse.python.cz/course/mi-pyt/).\n",
    "\n",
    " * Jako učebnici budeme používat knihu **Ponořme se do Pythonu 3**:\n",
    "     - [HTML](http://diveintopython3.py.cz/index.html)\n",
    "     - [... PDF a další formáty](https://knihy.nic.cz/#Python3)\n",
    "\n",
    " * Návody vytvořené u nás ve škole:\n",
    "    - [grafické uživatelské rozhranní s PyQt4](http://spseol.github.io/PyQt4Doc/)\n",
    "    - [Flask a Jinja2](http://spseol.github.io/CzechFlaskDoc/)\n",
    "    - [Český manuál k MatPlotLib](http://mamut.spseol.cz/matplotlib/)\n",
    "\n",
    " * Komunita:\n",
    "    - [Pyvec](http://pyvec.org/)\n",
    "    - [Pyvo](https://pyvo.cz/)"
   ]
  }
 ],
 "metadata": {
  "kernelspec": {
   "display_name": "Python 3",
   "language": "python",
   "name": "python3"
  },
  "language_info": {
   "codemirror_mode": {
    "name": "ipython",
    "version": 3
   },
   "file_extension": ".py",
   "mimetype": "text/x-python",
   "name": "python",
   "nbconvert_exporter": "python",
   "pygments_lexer": "ipython3",
   "version": "3.5.3"
  }
 },
 "nbformat": 4,
 "nbformat_minor": 2
}
